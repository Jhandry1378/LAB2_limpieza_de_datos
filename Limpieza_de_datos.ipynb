{
  "nbformat": 4,
  "nbformat_minor": 0,
  "metadata": {
    "colab": {
      "name": "Limpieza_de_datos.ipynb",
      "provenance": []
    },
    "kernelspec": {
      "name": "python3",
      "display_name": "Python 3"
    },
    "language_info": {
      "name": "python"
    }
  },
  "cells": [
    {
      "cell_type": "code",
      "execution_count": 4,
      "metadata": {
        "colab": {
          "base_uri": "https://localhost:8080/"
        },
        "id": "3vTPWhNj58Qp",
        "outputId": "3c20193e-277e-4fc6-d5be-d9177f7e2999"
      },
      "outputs": [
        {
          "output_type": "stream",
          "name": "stdout",
          "text": [
            "Importacion de librerias\n"
          ]
        }
      ],
      "source": [
        "def librerias():\n",
        "  '''Importacion de librerias'''\n",
        "import pandas as pd\n",
        "print(librerias.__doc__)"
      ]
    }
  ]
}