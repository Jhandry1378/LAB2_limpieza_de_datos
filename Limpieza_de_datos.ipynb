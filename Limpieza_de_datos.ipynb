{
  "nbformat": 4,
  "nbformat_minor": 0,
  "metadata": {
    "colab": {
      "name": "Limpieza_de_datos.ipynb",
      "provenance": []
    },
    "kernelspec": {
      "name": "python3",
      "display_name": "Python 3"
    },
    "language_info": {
      "name": "python"
    }
  },
  "cells": [
    {
      "cell_type": "code",
      "execution_count": 4,
      "metadata": {
        "colab": {
          "base_uri": "https://localhost:8080/"
        },
        "id": "3vTPWhNj58Qp",
        "outputId": "3c20193e-277e-4fc6-d5be-d9177f7e2999"
      },
      "outputs": [
        {
          "output_type": "stream",
          "name": "stdout",
          "text": [
            "Importacion de librerias\n"
          ]
        }
      ],
      "source": [
        "def librerias():\n",
        "  '''Importacion de librerias'''\n",
        "import pandas as pd\n",
        "print(librerias.__doc__)"
      ]
    },
    {
      "cell_type": "code",
      "source": [
        "def dataset():\n",
        "  '''Carga del dataset'''\n",
        "df=pd.read_csv(\"data_act_01.csv\")\n",
        "print(dataset.__doc__, df)"
      ],
      "metadata": {
        "colab": {
          "base_uri": "https://localhost:8080/"
        },
        "id": "MyXFg7kuDzXV",
        "outputId": "0448caac-ee7b-4f49-eec9-e3fcf6ca394d"
      },
      "execution_count": 5,
      "outputs": [
        {
          "output_type": "stream",
          "name": "stdout",
          "text": [
            "Carga del dataset       CrimeId;OriginalCrimeTypeName;OffenseDate;CallTime;CallDateTime;Disposition;Address;City;State;AgencyId;Range;AddressType\n",
            "0      160903280;Assault / Battery;2016-03-30T00:00:0...                                                                       \n",
            "1      160912272;Homeless Complaint;2016-03-31T00:00:...                                                                       \n",
            "2      160912590;Susp Info;2016-03-31T00:00:00;16:49;...                                                                       \n",
            "3      160912801;Report;2016-03-31T00:00:00;17:38;201...                                                                       \n",
            "4      160912811;594;2016-03-31T00:00:00;17:42;2016-0...                                                                       \n",
            "...                                                  ...                                                                       \n",
            "10046  160964210;Well Being Check;2016-04-05T00:00:00...                                                                       \n",
            "10047  160964216;Traffic Stop;2016-04-05T00:00:00;23:...                                                                       \n",
            "10048  160964227;Traffic Stop;2016-04-05T00:00:00;23:...                                                                       \n",
            "10049  160964229;Passing Call;2016-04-05T00:00:00;23:...                                                                       \n",
            "10050  160964249;Traffic Stop;2016-04-05T00:00:00;23:...                                                                       \n",
            "\n",
            "[10051 rows x 1 columns]\n"
          ]
        }
      ]
    }
  ]
}